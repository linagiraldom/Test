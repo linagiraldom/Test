{
 "cells": [
  {
   "cell_type": "code",
   "execution_count": 1,
   "id": "440f838d-0997-473c-9697-f0a8a213a213",
   "metadata": {},
   "outputs": [
    {
     "name": "stderr",
     "output_type": "stream",
     "text": [
      "\n",
      "WARNING: version mismatch between CFITSIO header (v4.000999999999999) and linked library (v4.01).\n",
      "\n",
      "\n",
      "WARNING: version mismatch between CFITSIO header (v4.000999999999999) and linked library (v4.01).\n",
      "\n",
      "\n",
      "WARNING: version mismatch between CFITSIO header (v4.000999999999999) and linked library (v4.01).\n",
      "\n"
     ]
    }
   ],
   "source": [
    "import lsst.daf.butler as dB\n",
    "import lsst.cp.verify.notebooks.utils as utils\n",
    "import lsst.afw.display as afwDisplay\n",
    "import matplotlib.pyplot as plt\n",
    "import numpy as np\n",
    "\n",
    "import lsst.afw.math as afwMath\n",
    "import lsst.pex.config as pexConfig\n",
    "import lsst.pipe.base as pipeBase\n",
    "from lsst.cp.pipe.utils import (arrangeFlatsByExpTime, arrangeFlatsByExpId,\n",
    "                                sigmaClipCorrection, CovFastFourierTransform)\n",
    "\n",
    "import lsst.pipe.base.connectionTypes as cT\n",
    "\n",
    "from lsst.ip.isr import PhotonTransferCurveDataset\n",
    "from lsst.ip.isr import IsrTask"
   ]
  },
  {
   "cell_type": "code",
   "execution_count": 2,
   "id": "54033728-fd0e-44a2-bc88-284739cd158d",
   "metadata": {},
   "outputs": [],
   "source": [
    "def getReadNoiseFromMetadata(taskMetadata, ampName):\n",
    "    \"\"\"Gets readout noise for an amp from ISR metadata.\n",
    "    Parameters\n",
    "    ----------\n",
    "    taskMetadata : `list` [`lsst.pipe.base.TaskMetadata`]\n",
    "                List of exposures metadata from ISR.\n",
    "    ampName : `str`\n",
    "        Amplifier name.\n",
    "    Returns\n",
    "    -------\n",
    "    readNoise : `float`\n",
    "        Median of the overscan readnoise in the\n",
    "        post-ISR metadata of the input exposures (ADU).\n",
    "        Returns 'None' if the median could not be calculated.\n",
    "    \"\"\"\n",
    "    # Empirical readout noise [ADU] measured from an\n",
    "    # overscan-subtracted overscan during ISR.\n",
    "    expectedKey = f\"RESIDUAL STDEV {ampName}\"\n",
    "\n",
    "    readNoises = []\n",
    "    for expMetadata in taskMetadata:\n",
    "        if 'isr' in expMetadata:\n",
    "            overscanNoise = expMetadata['isr'][expectedKey]\n",
    "        else:\n",
    "            continue\n",
    "        readNoises.append(overscanNoise)\n",
    "\n",
    "    if len(readNoises):\n",
    "        readNoise = np.median(np.array(readNoises))\n",
    "    else:\n",
    "        print(\"Median readout noise from ISR metadata for amp %s \"\n",
    "                         \"could not be calculated.\" % ampName)\n",
    "        readNoise = None\n",
    "\n",
    "    return "
   ]
  },
  {
   "cell_type": "code",
   "execution_count": 3,
   "id": "598c5d8e-ac9e-4795-81a6-8f5218f994b3",
   "metadata": {},
   "outputs": [],
   "source": [
    "genCollection = \"u/lgiraldo/bps_ALLCCD_20220701\"\n",
    "butler = dB.Butler(\"/repo/main/\", collections=genCollection)"
   ]
  },
  {
   "cell_type": "code",
   "execution_count": 4,
   "id": "bffd0c52-4cdf-4b50-8292-88cc7e261d0d",
   "metadata": {},
   "outputs": [],
   "source": [
    "exposure_pair = [3021120700503, 3021120700504]\n",
    "\n",
    "##These exposures have a mean of around  5000 ADU\n",
    "exp1 = butler.get('cpPtcProc', detector=55, exposure=exposure_pair[0], instrument='LSSTCam')\n",
    "exp2 = butler.get('cpPtcProc', detector=55, exposure=exposure_pair[1], instrument='LSSTCam')"
   ]
  },
  {
   "cell_type": "code",
   "execution_count": 5,
   "id": "6b19c4ea-b25b-4e9c-9a7d-45b05ddcf9d6",
   "metadata": {},
   "outputs": [
    {
     "name": "stdout",
     "output_type": "stream",
     "text": [
      "3.4678581362725582\n"
     ]
    }
   ],
   "source": [
    "metadata = butler.get('isr_metadata', instrument='LSSTCam', exposure=exposure_pair[1], detector=55)\n",
    "print(metadata['isr'][\"RESIDUAL STDEV C00\"])"
   ]
  },
  {
   "cell_type": "code",
   "execution_count": 6,
   "id": "161fc98f-97c8-45e9-b80a-6874e4e1634a",
   "metadata": {},
   "outputs": [
    {
     "ename": "TypeError",
     "evalue": "string indices must be integers",
     "output_type": "error",
     "traceback": [
      "\u001b[0;31m---------------------------------------------------------------------------\u001b[0m",
      "\u001b[0;31mTypeError\u001b[0m                                 Traceback (most recent call last)",
      "Input \u001b[0;32mIn [6]\u001b[0m, in \u001b[0;36m<cell line: 1>\u001b[0;34m()\u001b[0m\n\u001b[0;32m----> 1\u001b[0m \u001b[43mgetReadNoiseFromMetadata\u001b[49m\u001b[43m(\u001b[49m\u001b[43mmetadata\u001b[49m\u001b[43m,\u001b[49m\u001b[43m \u001b[49m\u001b[38;5;124;43m\"\u001b[39;49m\u001b[38;5;124;43mC00\u001b[39;49m\u001b[38;5;124;43m\"\u001b[39;49m\u001b[43m)\u001b[49m\n",
      "Input \u001b[0;32mIn [2]\u001b[0m, in \u001b[0;36mgetReadNoiseFromMetadata\u001b[0;34m(taskMetadata, ampName)\u001b[0m\n\u001b[1;32m     21\u001b[0m \u001b[38;5;28;01mfor\u001b[39;00m expMetadata \u001b[38;5;129;01min\u001b[39;00m taskMetadata:\n\u001b[1;32m     22\u001b[0m     \u001b[38;5;28;01mif\u001b[39;00m \u001b[38;5;124m'\u001b[39m\u001b[38;5;124misr\u001b[39m\u001b[38;5;124m'\u001b[39m \u001b[38;5;129;01min\u001b[39;00m expMetadata:\n\u001b[0;32m---> 23\u001b[0m         overscanNoise \u001b[38;5;241m=\u001b[39m \u001b[43mexpMetadata\u001b[49m\u001b[43m[\u001b[49m\u001b[38;5;124;43m'\u001b[39;49m\u001b[38;5;124;43misr\u001b[39;49m\u001b[38;5;124;43m'\u001b[39;49m\u001b[43m]\u001b[49m[expectedKey]\n\u001b[1;32m     24\u001b[0m     \u001b[38;5;28;01melse\u001b[39;00m:\n\u001b[1;32m     25\u001b[0m         \u001b[38;5;28;01mcontinue\u001b[39;00m\n",
      "\u001b[0;31mTypeError\u001b[0m: string indices must be integers"
     ]
    }
   ],
   "source": [
    "getReadNoiseFromMetadata(metadata, \"C00\")"
   ]
  },
  {
   "cell_type": "code",
   "execution_count": null,
   "id": "4462b2c7-33bc-4ddb-a53c-a61ce5fb98de",
   "metadata": {},
   "outputs": [],
   "source": []
  }
 ],
 "metadata": {
  "kernelspec": {
   "display_name": "LSST",
   "language": "python",
   "name": "lsst"
  },
  "language_info": {
   "codemirror_mode": {
    "name": "ipython",
    "version": 3
   },
   "file_extension": ".py",
   "mimetype": "text/x-python",
   "name": "python",
   "nbconvert_exporter": "python",
   "pygments_lexer": "ipython3",
   "version": "3.10.4"
  }
 },
 "nbformat": 4,
 "nbformat_minor": 5
}
